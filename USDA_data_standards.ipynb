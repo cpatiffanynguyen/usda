{
  "nbformat": 4,
  "nbformat_minor": 0,
  "metadata": {
    "colab": {
      "provenance": [],
      "authorship_tag": "ABX9TyNByffSK/YhyrwNhwgYSwDu",
      "include_colab_link": true
    },
    "kernelspec": {
      "name": "python3",
      "display_name": "Python 3"
    },
    "language_info": {
      "name": "python"
    }
  },
  "cells": [
    {
      "cell_type": "markdown",
      "metadata": {
        "id": "view-in-github",
        "colab_type": "text"
      },
      "source": [
        "<a href=\"https://colab.research.google.com/github/cpatiffanynguyen/usda/blob/main/USDA_data_standards.ipynb\" target=\"_parent\"><img src=\"https://colab.research.google.com/assets/colab-badge.svg\" alt=\"Open In Colab\"/></a>"
      ]
    },
    {
      "cell_type": "markdown",
      "source": [
        "###Clone the USDA data standards repository (data-standards) from GitHub using git commands in Google Colab"
      ],
      "metadata": {
        "id": "WuR4-Q_WYmBl"
      }
    },
    {
      "cell_type": "code",
      "execution_count": 2,
      "metadata": {
        "colab": {
          "base_uri": "https://localhost:8080/"
        },
        "id": "1q9KFN4MVTEM",
        "outputId": "dce72e5e-7434-4cec-d03e-757391ba5589"
      },
      "outputs": [
        {
          "output_type": "stream",
          "name": "stdout",
          "text": [
            "Cloning into 'data-standards'...\n",
            "remote: Enumerating objects: 476, done.\u001b[K\n",
            "remote: Total 476 (delta 0), reused 0 (delta 0), pack-reused 476\u001b[K\n",
            "Receiving objects: 100% (476/476), 4.78 MiB | 21.77 MiB/s, done.\n",
            "Resolving deltas: 100% (179/179), done.\n"
          ]
        }
      ],
      "source": [
        "!git clone https://github.com/usda/data-standards.git\n"
      ]
    },
    {
      "cell_type": "code",
      "source": [
        "!git clone https://github.com/USDA/data-standards.git\n",
        "%cd data-standards\n",
        "!ls\n"
      ],
      "metadata": {
        "colab": {
          "base_uri": "https://localhost:8080/"
        },
        "id": "W5GNicPxXp9i",
        "outputId": "093ce741-ff78-40f8-d484-04279a254a5f"
      },
      "execution_count": 16,
      "outputs": [
        {
          "output_type": "stream",
          "name": "stdout",
          "text": [
            "Cloning into 'data-standards'...\n",
            "remote: Enumerating objects: 476, done.\u001b[K\n",
            "remote: Total 476 (delta 0), reused 0 (delta 0), pack-reused 476\u001b[K\n",
            "Receiving objects: 100% (476/476), 4.78 MiB | 20.85 MiB/s, done.\n",
            "Resolving deltas: 100% (179/179), done.\n",
            "/content/data-standards/data-standards/data-standards\n",
            "acrsi-elements.md  _config.yml\t  data_elements     index.md\t README.md\n",
            "ag-acrsi.iepd\t   contribute.md  data-exchange.md  json-schema  roadmap.md\n",
            "assets\t\t   css\t\t  examples\t    _layouts\t _sass\n",
            "business_rules.md  _data\t  _includes\t    LICENSE\t sitemap.xml\n"
          ]
        }
      ]
    },
    {
      "cell_type": "code",
      "source": [
        "!docker run -it --rm ruby:3.1 bash  # Replace with the desired Ruby version\n"
      ],
      "metadata": {
        "colab": {
          "base_uri": "https://localhost:8080/"
        },
        "id": "OciqQ_xta5oF",
        "outputId": "f42239b8-a20d-460d-bd23-33efea5816e9"
      },
      "execution_count": 7,
      "outputs": [
        {
          "output_type": "stream",
          "name": "stdout",
          "text": [
            "/bin/bash: line 1: docker: command not found\n"
          ]
        }
      ]
    }
  ]
}