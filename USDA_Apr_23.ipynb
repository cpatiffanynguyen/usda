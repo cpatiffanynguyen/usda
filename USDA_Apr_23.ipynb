{
  "nbformat": 4,
  "nbformat_minor": 0,
  "metadata": {
    "colab": {
      "provenance": [],
      "include_colab_link": true
    },
    "kernelspec": {
      "name": "python3",
      "display_name": "Python 3"
    },
    "language_info": {
      "name": "python"
    }
  },
  "cells": [
    {
      "cell_type": "markdown",
      "metadata": {
        "id": "view-in-github",
        "colab_type": "text"
      },
      "source": [
        "<a href=\"https://colab.research.google.com/github/cpatiffanynguyen/usda/blob/main/USDA_Apr_23.ipynb\" target=\"_parent\"><img src=\"https://colab.research.google.com/assets/colab-badge.svg\" alt=\"Open In Colab\"/></a>"
      ]
    },
    {
      "cell_type": "code",
      "execution_count": 44,
      "metadata": {
        "id": "YvVZRc5YuyGq"
      },
      "outputs": [],
      "source": [
        "import requests\n",
        "from requests.exceptions import ConnectionError\n",
        "from bs4 import BeautifulSoup\n",
        "import pandas as pd\n",
        "from PyPDF2 import PdfReader\n",
        "import io"
      ]
    },
    {
      "cell_type": "markdown",
      "source": [
        "#List of PDF URLs\n"
      ],
      "metadata": {
        "id": "fVcDehYfBxeq"
      }
    },
    {
      "cell_type": "markdown",
      "source": [
        "##Colorado"
      ],
      "metadata": {
        "id": "m6-WQl7rJlJS"
      }
    },
    {
      "cell_type": "code",
      "source": [
        "pdf_urls_string = \"\"\"https://extension.colostate.edu/docs/pubs/insect/ihm-bee.pdf\n",
        "https://sam.extension.colostate.edu/wp-content/uploads/sites/2/2017/04/sam-irr-guide.pdf\n",
        "https://bookstore.ksre.ksu.edu/pubs/MF3523.pdf\n",
        "https://extension.colostate.edu/wp-content/uploads/2022/02/Avian-Health-Deliverable-Draft98.pdf\n",
        "https://extension.colostate.edu/wp-content/uploads/2022/02/Dead-Bird-Now-What-Infographic-w-Check-List1.pdf\n",
        "https://sam.extension.colostate.edu/wp-content/uploads/sites/2/2016/07/forage-guide.pdf\n",
        "https://sam.extension.colostate.edu/wp-content/uploads/sites/2/2018/07/GrazingGuide.pdf\n",
        "https://extension.colostate.edu/wp-content/uploads/2022/11/FactSheet_E-Colorado-Grassland-Birds-Grazing_12-2022.pdf\n",
        "https://sam.extension.colostate.edu/wp-content/uploads/sites/2/2017/08/LivestockManagementintheMountains2017.pdf\n",
        "https://extension.colostate.edu/wp-content/uploads/2023/03/Composting-Manual-2023_Web-FINAL.pdf\n",
        "https://sam.extension.colostate.edu/wp-content/uploads/sites/2/2018/07/manure-mgt.pdf\n",
        "https://extension.colostate.edu/docs/pubs/crops/xcm178.pdf\n",
        "https://extension.colostate.edu/docs/pubs/crops/xcm178.pdf\n",
        "https://extension.colostate.edu/docs/pubs/crops/xcm178.pdf\n",
        "https://extension.colostate.edu/docs/pubs/garden/xcm221.pdf\n",
        "https://extension.colostate.edu/docs/pubs/garden/xcm221.pdf\n",
        "https://extension.colostate.edu/docs/pubs/garden/xcm221.pdf\n",
        "https://webdoc.agsci.colostate.edu/soiltestinglab/soilsample_horticulture.pdf\n",
        "https://webdoc.agsci.colostate.edu/soiltestinglab/Forage_online_submittal_form.pdf\n",
        "https://agsci.colostate.edu/soiltestinglab/wp-content/uploads/sites/98/2022/01/Soil-Submittal-Form-for-Horticulture-Fillable.pdf\n",
        "https://agsci.colostate.edu/soiltestinglab/wp-content/uploads/sites/98/2022/01/Submittal-Form-for-Water-Fillable.pdf\n",
        "https://extension.colostate.edu/docs/pubs/insect/ihm-bee.pdf\n",
        "https://nativebeewatch.files.wordpress.com/2018/03/fieldguide_12march2018_lowrez.pdf\n",
        "https://extension.colostate.edu/wp-content/uploads/2022/03/BeginnerBeeFieldGuide_LowRezWeb_28Feb2022.pdf\n",
        "https://extension.colostate.edu/docs/pubs/insect/ihm-bee.pdf\n",
        "https://nativebeewatch.files.wordpress.com/2018/03/fieldguide_12march2018_lowrez.pdf\n",
        "https://extension.colostate.edu/wp-content/uploads/2022/03/BeginnerBeeFieldGuide_LowRezWeb_28Feb2022.pdf\n",
        "https://extension.colostate.edu/docs/pubs/insect/ihm-bee.pdf\n",
        "https://nativebeewatch.files.wordpress.com/2018/03/fieldguide_12march2018_lowrez.pdf\n",
        "https://extension.colostate.edu/docs/pubs/insect/ihm-bee.pdf\n",
        "https://extension.colostate.edu/docs/pubs/insect/ihm-bee.pdf\n",
        "https://sam.extension.colostate.edu/wp-content/uploads/sites/2/2016/07/forage-guide.pdf\n",
        "https://sam.extension.colostate.edu/wp-content/uploads/sites/2/2018/07/GrazingGuide.pdf\n",
        "https://extension.colostate.edu/docs/pubs/native/FrontRangeSm.pdf\n",
        "https://extension.colostate.edu/docs/pubs/native/FrontRange.pdf\n",
        "https://extension.colostate.edu/docs/pubs/native/MountainsSm.pdf\n",
        "https://extension.colostate.edu/docs/pubs/native/Mountains.pdf\n",
        "https://extension.colostate.edu/docs/pubs/native/PrairieSm.pdf\n",
        "https://extension.colostate.edu/docs/pubs/native/Prairie.pdf\n",
        "https://extension.colostate.edu/docs/pubs/native/SESm.pdf\n",
        "https://extension.colostate.edu/docs/pubs/native/SE.pdf\n",
        "https://extension.colostate.edu/docs/pubs/native/WestSlopeSm.pdf\n",
        "https://extension.colostate.edu/docs/pubs/native/WestSlope.pdf\n",
        "https://extension.colostate.edu/wp-content/uploads/2022/01/sources-native-plants-2022.pdf\n",
        "https://extension.colostate.edu/docs/pubs/crops/xcm179.pdf\n",
        "https://extension.colostate.edu/docs/pubs/garden/xcm221.pdf\n",
        "https://extension.colostate.edu/docs/pubs/garden/xcm221.pdf\n",
        "https://extension.colostate.edu/docs/pubs/garden/xcm221.pdf\n",
        "https://extension.colostate.edu/docs/pubs/spanish/09329.pdf\n",
        "https://extension.colostate.edu/docs/pubs/spanish/09341.pdf\n",
        "https://extension.colostate.edu/wp-content/uploads/2023/07/Roasting-Chile-Peppers.pdf\n",
        "https://extension.colostate.edu/docs/pubs/spanish/09380.pdf\n",
        "https://extension.colostate.edu/docs/pubs/spanish/09377.pdf\n",
        "https://extension.colostate.edu/docs/pubs/spanish/09367.pdf\n",
        "https://extension.colostate.edu/docs/pubs/spanish/09386.pdf\n",
        "https://extension.colostate.edu/docs/pubs/spanish/09334.pdf\n",
        "https://extension.colostate.edu/docs/pubs/spanish/09318.pdf\n",
        "https://extension.colostate.edu/wp-content/uploads/2022/01/Defenders-of-Wildlife-Conflict-Reduction.pdf\n",
        "https://extension.colostate.edu/wp-content/uploads/2022/01/livestock_and_wolves.pdf\n",
        "https://extension.colostate.edu/wp-content/uploads/2022/01/PC-Tool-Resource-Guide.pdf\n",
        "https://extension.colostate.edu/wp-content/uploads/2022/01/ReducingConflict_WLA-Guide_low-res-1.pdf\n",
        "https://extension.colostate.edu/wp-content/uploads/2022/01/Tool-Kit-Grizzly-Bear-Conflict-Reduction-2017.pdf\n",
        "https://extension.colostate.edu/wp-content/uploads/2022/01/Wilson-et-al.-2017-Learning-to-live-with-wolves-Blackfoot-Valley.pdf\n",
        "https://extension.colostate.edu/wp-content/uploads/2022/01/WolfResourcesGuide.pdf\n",
        "https://extension.colostate.edu/wp-content/uploads/2022/01/bro-livestock-protection-dog-public.pdf\n",
        "https://extension.colostate.edu/wp-content/uploads/2022/01/A-Wyoming-Landowners-Handbook-to-Fences-and-Wildlife_2nd-Edition_-lo-res.pdf\n",
        "https://extension.colostate.edu/wp-content/uploads/2022/01/FladryManual.pdf\n",
        "https://extension.colostate.edu/wp-content/uploads/2022/01/installing-turbo-fladry-guide-ib.pdf\n",
        "https://extension.colostate.edu/wp-content/uploads/2022/01/carcus-mgt.pdf\n",
        "https://extension.colostate.edu/wp-content/uploads/2022/01/Review-of-livestock-compensation-programs-052620.pdf\n",
        "https://extension.colostate.edu/wp-content/uploads/2023/10/Extension-Education-Breck-Wolf-behavior-and-mgt.pdf\n",
        "https://extension.colostate.edu/wp-content/uploads/2023/10/Extension-Education-Collins-WLA_RCPP_Extension.pdf\n",
        "https://extension.colostate.edu/wp-content/uploads/2023/10/Extension-Education-Collins-WLA_WWC_4Cs.pdf\n",
        "https://extension.colostate.edu/wp-content/uploads/2023/10/Extension-Education-CPW-Wolf-Livestock-Compensation.pdf\n",
        "https://extension.colostate.edu/wp-content/uploads/2023/10/Extension-Education-Gary-Cattle-records.pdf\n",
        "https://extension.colostate.edu/wp-content/uploads/2023/10/Extension-Education-Hoag-Economic-value-of-wolves.pdf\n",
        "https://extension.colostate.edu/wp-content/uploads/2023/10/Extension-Education-Stanko-Rancher-Community-dialogs.pdf\n",
        "https://extension.colostate.edu/wp-content/uploads/2023/10/Extension-Education-Vail-Rocky-Mt-Wolf-Project.pdf\n",
        "https://extension.colostate.edu/wp-content/uploads/2023/10/Extension-Education-Wilson-Blackfoot-Challenge.pdf\n",
        "https://sam.extension.colostate.edu/wp-content/uploads/sites/2/2017/04/sam-irr-guide.pdf\n",
        "https://extension.colostate.edu/docs/pubs/insect/ihm-bee.pdf\n",
        "https://extension.colostate.edu/wp-content/uploads/2022/10/Fire-Blight_2.907-2__OConnor-Zentz_10-22.pdf\n",
        "https://extension.colostate.edu/docs/pubs/spanish/07001.pdf\n",
        "https://extension.colostate.edu/docs/pubs/native/FrontRangeSm.pdf\n",
        "https://extension.colostate.edu/docs/pubs/native/FrontRange.pdf\n",
        "https://extension.colostate.edu/docs/pubs/native/MountainsSm.pdf\n",
        "https://extension.colostate.edu/docs/pubs/native/Mountains.pdf\n",
        "https://extension.colostate.edu/docs/pubs/native/PrairieSm.pdf\n",
        "https://extension.colostate.edu/docs/pubs/native/Prairie.pdf\n",
        "https://extension.colostate.edu/docs/pubs/native/SESm.pdf\n",
        "https://extension.colostate.edu/docs/pubs/native/SE.pdf\n",
        "https://extension.colostate.edu/docs/pubs/native/WestSlopeSm.pdf\n",
        "https://extension.colostate.edu/docs/pubs/native/WestSlope.pdf\n",
        "\"\"\""
      ],
      "metadata": {
        "id": "tn_NUpE_FyPF"
      },
      "execution_count": 23,
      "outputs": []
    },
    {
      "cell_type": "code",
      "source": [
        "import requests\n",
        "\n",
        "def download_pdfs(pdf_urls):\n",
        "  \"\"\"Downloads PDFs from a list of URLs and saves them locally.\"\"\"\n",
        "  for url in pdf_urls:\n",
        "    response = requests.get(url)\n",
        "    filename = url.split('/')[-1]  # Extract filename from URL\n",
        "    with open(filename, 'wb') as f:\n",
        "      f.write(response.content)\n",
        "\n",
        "pdf_urls = pdf_urls_string.splitlines()  # Split string into list\n",
        "download_pdfs(pdf_urls)\n"
      ],
      "metadata": {
        "id": "CornsGwikcqg"
      },
      "execution_count": 28,
      "outputs": []
    },
    {
      "cell_type": "code",
      "source": [
        "from PyPDF2 import PdfReader\n",
        "\n",
        "def extract_pdf_text(pdf_path):\n",
        "  \"\"\"Extracts text content from a PDF file.\"\"\"\n",
        "  with open(pdf_path, 'rb') as pdf_file:\n",
        "    pdf_reader = PdfReader(pdf_file)\n",
        "    text = \"\"\n",
        "    for page in pdf_reader.pages:\n",
        "      text += page.extract_text()\n",
        "  return text\n",
        "\n",
        "# Assuming a downloaded PDF named 'ihm-bee.pdf'\n",
        "pdf_text = extract_pdf_text('ihm-bee.pdf')\n",
        "# Process or analyze the extracted text (pdf_text)\n"
      ],
      "metadata": {
        "id": "HAFImZ2_kwgV"
      },
      "execution_count": 29,
      "outputs": []
    },
    {
      "cell_type": "code",
      "source": [
        "from urllib.request import urlretrieve  # For downloading PDFs\n",
        "from PyPDF2 import PdfReader  # For extracting text\n",
        "\n",
        "def download_and_extract_text(pdf_url, filename='ihm-bee.txt'):\n",
        "  \"\"\"Downloads a PDF, extracts text, and saves it to a TXT file.\"\"\"\n",
        "  urlretrieve(pdf_url, filename)  # Download PDF (replace filename if needed)\n",
        "  with open(filename, 'rb') as pdf_file:\n",
        "    pdf_reader = PdfReader(pdf_file)\n",
        "    text = \"\"\n",
        "    for page in pdf_reader.pages:\n",
        "      text += page.extract_text()\n",
        "  return text\n",
        "\n",
        "pdf_url = \"https://extension.colostate.edu/docs/pubs/insect/ihm-bee.pdf\"\n",
        "ihm_bee_text = download_and_extract_text(pdf_url)\n",
        "\n",
        "# Save the extracted text to a separate TXT file (optional):\n",
        "with open('ihm_bee_content.txt', 'w') as f:\n",
        "  f.write(ihm_bee_text)\n"
      ],
      "metadata": {
        "id": "GAUDC-lvk93h"
      },
      "execution_count": 30,
      "outputs": []
    },
    {
      "cell_type": "code",
      "source": [
        "from collections import Counter  # For counting keyword occurrences\n",
        "\n",
        "def analyze_keywords(text, top_n=10):\n",
        "  \"\"\"Analyzes keywords in the text and prints the top 'top_n'.\"\"\"\n",
        "  words = [word.lower() for word in text.split() if word.isalnum()]  # Preprocess text (lowercase, alphanumeric)\n",
        "  keyword_counts = Counter(words)\n",
        "  top_keywords = keyword_counts.most_common(top_n)\n",
        "  print(\"Top\", top_n, \"Keywords:\")\n",
        "  for keyword, count in top_keywords:\n",
        "    print(f\"- '{keyword}': {count} occurrences\")\n",
        "\n",
        "analyze_keywords(ihm_bee_text)\n"
      ],
      "metadata": {
        "colab": {
          "base_uri": "https://localhost:8080/"
        },
        "id": "bq5xZy7DlAb6",
        "outputId": "c501f10a-bf51-4269-9d84-62f1e101497d"
      },
      "execution_count": 33,
      "outputs": [
        {
          "output_type": "stream",
          "name": "stdout",
          "text": [
            "Top 10 Keywords:\n",
            "- 'the': 724 occurrences\n",
            "- 'and': 434 occurrences\n",
            "- 'to': 412 occurrences\n",
            "- 'of': 348 occurrences\n",
            "- 'in': 282 occurrences\n",
            "- 'a': 253 occurrences\n",
            "- 'is': 193 occurrences\n",
            "- 'or': 153 occurrences\n",
            "- 'are': 151 occurrences\n",
            "- 'bees': 146 occurrences\n"
          ]
        }
      ]
    },
    {
      "cell_type": "code",
      "source": [
        "import os\n",
        "from PyPDF2 import PdfReader  # For extracting text from PDFs\n"
      ],
      "metadata": {
        "id": "19aYaFxZjQGY"
      },
      "execution_count": 38,
      "outputs": []
    },
    {
      "cell_type": "code",
      "source": [
        "def find_pdf_titles(folder_path):\n",
        "  \"\"\"Finds and prints titles of all PDF files in a folder.\"\"\"\n",
        "  pdf_titles = []\n",
        "  for filename in os.listdir(folder_path):\n",
        "    if filename.endswith('.pdf'):\n",
        "      file_path = os.path.join(folder_path, filename)\n",
        "      try:\n",
        "        with open(file_path, 'rb') as pdf_file:\n",
        "          pdf_reader = PdfReader(pdf_file)\n",
        "          # Try to get document information dictionary (might not always contain a title)\n",
        "          document_info = pdf_reader.getDocumentInfo()\n",
        "          if '/Title' in document_info:\n",
        "            pdf_titles.append(document_info['/Title'])\n",
        "          else:\n",
        "            pdf_titles.append(f\"{filename} (Title Not Found)\")  # Handle missing titles\n",
        "      except Exception as e:  # Catch potential errors (e.g., corrupted PDFs)\n",
        "        print(f\"Error processing '{filename}': {e}\")\n",
        "  return pdf_titles\n",
        "\n",
        "# Replace with your actual folder path\n",
        "folder_path = '//content/pdfs'\n"
      ],
      "metadata": {
        "id": "wkfbAJMZh1C9"
      },
      "execution_count": 39,
      "outputs": []
    },
    {
      "cell_type": "code",
      "source": [
        "from PyPDF2 import PdfReader\n",
        "from sklearn.feature_extraction.text import TfidfVectorizer\n",
        "\n",
        "def analyze_pdf_tfidf(pdf_path):\n",
        "  \"\"\"Extracts text and performs TF-IDF analysis on a single PDF.\"\"\"\n",
        "  with open(pdf_path, 'rb') as pdf_file:\n",
        "    pdf_reader = PdfReader(pdf_file)\n",
        "    text = \"\"\n",
        "    for page in pdf_reader.pages:\n",
        "      text += page.extract_text()\n",
        "\n",
        "  # Preprocess text (optional): lowercase, remove punctuation, etc.\n",
        "  # ... your preprocessing steps here ...\n",
        "\n",
        "  vectorizer = TfidfVectorizer()\n",
        "  tfidf_matrix = vectorizer.fit_transform([text])\n",
        "  feature_names = vectorizer.get_feature_names_out()\n",
        "\n",
        "  # Print feature names (important terms) for this PDF\n",
        "  print(\"Top Feature Names (Important Terms) for this PDF:\")\n",
        "  for i in range(10):\n",
        "    print(feature_names[i])\n",
        "\n",
        "  # You can access the TF-IDF matrix for further analysis (single row)\n",
        "  # ... your analysis using tfidf_matrix[0] ...\n",
        "\n",
        "# Replace 'temp_pdf.pdf' with the actual path if different\n",
        "analyze_pdf_tfidf('temp_pdf.pdf')\n"
      ],
      "metadata": {
        "id": "VRux5HbCHTAm",
        "colab": {
          "base_uri": "https://localhost:8080/"
        },
        "outputId": "723b2b31-07aa-4ad8-ac38-a21842eeda5c"
      },
      "execution_count": 27,
      "outputs": [
        {
          "output_type": "stream",
          "name": "stdout",
          "text": [
            "Top Feature Names (Important Terms) for this PDF:\n",
            "001\n",
            "003\n",
            "008\n",
            "018\n",
            "02\n",
            "0324\n",
            "05\n",
            "067b\n",
            "07\n",
            "10\n"
          ]
        }
      ]
    }
  ]
}